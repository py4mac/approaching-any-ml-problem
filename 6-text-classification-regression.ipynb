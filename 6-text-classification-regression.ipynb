{
 "metadata": {
  "language_info": {
   "codemirror_mode": {
    "name": "ipython",
    "version": 3
   },
   "file_extension": ".py",
   "mimetype": "text/x-python",
   "name": "python",
   "nbconvert_exporter": "python",
   "pygments_lexer": "ipython3",
   "version": "3.8.5-final"
  },
  "orig_nbformat": 2,
  "kernelspec": {
   "name": "python3",
   "display_name": "Python 3",
   "language": "python"
  }
 },
 "nbformat": 4,
 "nbformat_minor": 2,
 "cells": [
  {
   "cell_type": "code",
   "execution_count": 1,
   "metadata": {},
   "outputs": [],
   "source": [
    "from sklearn.feature_extraction.text import CountVectorizer, TfidfVectorizer\n",
    "from nltk.tokenize import word_tokenize"
   ]
  },
  {
   "cell_type": "code",
   "execution_count": 2,
   "metadata": {},
   "outputs": [
    {
     "output_type": "stream",
     "name": "stderr",
     "text": [
      "[nltk_data] Downloading package punkt to /home/py/nltk_data...\n[nltk_data]   Package punkt is already up-to-date!\n"
     ]
    },
    {
     "output_type": "execute_result",
     "data": {
      "text/plain": [
       "True"
      ]
     },
     "metadata": {},
     "execution_count": 2
    }
   ],
   "source": [
    "import nltk\n",
    "nltk.download('punkt')"
   ]
  },
  {
   "cell_type": "code",
   "execution_count": 3,
   "metadata": {},
   "outputs": [],
   "source": [
    "corpus = [\n",
    "    \"Hello how are you?\",\n",
    "    \"im getting bored at home. And you? What do you think?\",\n",
    "    \"did you know about counts\",\n",
    "    \"let's see if this works\",\n",
    "    \"YES!!!\"\n",
    "]"
   ]
  },
  {
   "source": [
    "# 1- CountVectorizer"
   ],
   "cell_type": "markdown",
   "metadata": {}
  },
  {
   "cell_type": "code",
   "execution_count": 4,
   "metadata": {},
   "outputs": [
    {
     "output_type": "execute_result",
     "data": {
      "text/plain": [
       "{'hello': 9,\n",
       " 'how': 11,\n",
       " 'are': 2,\n",
       " 'you': 22,\n",
       " 'im': 13,\n",
       " 'getting': 8,\n",
       " 'bored': 4,\n",
       " 'at': 3,\n",
       " 'home': 10,\n",
       " 'and': 1,\n",
       " 'what': 19,\n",
       " 'do': 7,\n",
       " 'think': 17,\n",
       " 'did': 6,\n",
       " 'know': 14,\n",
       " 'about': 0,\n",
       " 'counts': 5,\n",
       " 'let': 15,\n",
       " 'see': 16,\n",
       " 'if': 12,\n",
       " 'this': 18,\n",
       " 'works': 20,\n",
       " 'yes': 21}"
      ]
     },
     "metadata": {},
     "execution_count": 4
    }
   ],
   "source": [
    "ctv = CountVectorizer()\n",
    "ctv.fit(corpus)\n",
    "\n",
    "corpus_transformed = ctv.transform(corpus)\n",
    "ctv.vocabulary_"
   ]
  },
  {
   "cell_type": "code",
   "execution_count": 11,
   "metadata": {},
   "outputs": [
    {
     "output_type": "execute_result",
     "data": {
      "text/plain": [
       "{'hello': 13,\n",
       " 'how': 15,\n",
       " 'are': 6,\n",
       " 'you': 26,\n",
       " '?': 3,\n",
       " 'im': 17,\n",
       " 'getting': 12,\n",
       " 'bored': 8,\n",
       " 'at': 7,\n",
       " 'home': 14,\n",
       " '.': 2,\n",
       " 'and': 5,\n",
       " 'what': 23,\n",
       " 'do': 11,\n",
       " 'think': 21,\n",
       " 'did': 10,\n",
       " 'know': 18,\n",
       " 'about': 4,\n",
       " 'counts': 9,\n",
       " 'let': 19,\n",
       " \"'s\": 1,\n",
       " 'see': 20,\n",
       " 'if': 16,\n",
       " 'this': 22,\n",
       " 'works': 24,\n",
       " 'yes': 25,\n",
       " '!': 0}"
      ]
     },
     "metadata": {},
     "execution_count": 11
    }
   ],
   "source": [
    "ctv = CountVectorizer(tokenizer=word_tokenize, token_pattern=None)\n",
    "ctv.fit(corpus)\n",
    "\n",
    "corpus_transformed = ctv.transform(corpus)\n",
    "ctv.vocabulary_"
   ]
  },
  {
   "cell_type": "code",
   "execution_count": 12,
   "metadata": {},
   "outputs": [
    {
     "output_type": "stream",
     "name": "stdout",
     "text": [
      "  (0, 3)\t1\n  (0, 6)\t1\n  (0, 13)\t1\n  (0, 15)\t1\n  (0, 26)\t1\n  (1, 2)\t1\n  (1, 3)\t2\n  (1, 5)\t1\n  (1, 7)\t1\n  (1, 8)\t1\n  (1, 11)\t1\n  (1, 12)\t1\n  (1, 14)\t1\n  (1, 17)\t1\n  (1, 21)\t1\n  (1, 23)\t1\n  (1, 26)\t2\n  (2, 4)\t1\n  (2, 9)\t1\n  (2, 10)\t1\n  (2, 18)\t1\n  (2, 26)\t1\n  (3, 1)\t1\n  (3, 16)\t1\n  (3, 19)\t1\n  (3, 20)\t1\n  (3, 22)\t1\n  (3, 24)\t1\n  (4, 0)\t3\n  (4, 25)\t1\n"
     ]
    }
   ],
   "source": [
    "print(corpus_transformed)"
   ]
  },
  {
   "source": [
    "# 2- Tfidf"
   ],
   "cell_type": "markdown",
   "metadata": {}
  },
  {
   "cell_type": "code",
   "execution_count": 8,
   "metadata": {},
   "outputs": [
    {
     "output_type": "execute_result",
     "data": {
      "text/plain": [
       "{'hello': 13,\n",
       " 'how': 15,\n",
       " 'are': 6,\n",
       " 'you': 26,\n",
       " '?': 3,\n",
       " 'im': 17,\n",
       " 'getting': 12,\n",
       " 'bored': 8,\n",
       " 'at': 7,\n",
       " 'home': 14,\n",
       " '.': 2,\n",
       " 'and': 5,\n",
       " 'what': 23,\n",
       " 'do': 11,\n",
       " 'think': 21,\n",
       " 'did': 10,\n",
       " 'know': 18,\n",
       " 'about': 4,\n",
       " 'counts': 9,\n",
       " 'let': 19,\n",
       " \"'s\": 1,\n",
       " 'see': 20,\n",
       " 'if': 16,\n",
       " 'this': 22,\n",
       " 'works': 24,\n",
       " 'yes': 25,\n",
       " '!': 0}"
      ]
     },
     "metadata": {},
     "execution_count": 8
    }
   ],
   "source": [
    "tfv = TfidfVectorizer(tokenizer=word_tokenize, token_pattern=None)\n",
    "tfv.fit(corpus)\n",
    "\n",
    "corpus_transformed = tfv.transform(corpus)\n",
    "tfv.vocabulary_"
   ]
  },
  {
   "cell_type": "code",
   "execution_count": 10,
   "metadata": {},
   "outputs": [
    {
     "output_type": "stream",
     "name": "stdout",
     "text": [
      "  (0, 26)\t0.33077001342584644\n  (0, 15)\t0.4938991447697859\n  (0, 13)\t0.4938991447697859\n  (0, 6)\t0.4938991447697859\n  (0, 3)\t0.39847472015836516\n  (1, 26)\t0.35299699146792735\n  (1, 23)\t0.2635440111190765\n  (1, 21)\t0.2635440111190765\n  (1, 17)\t0.2635440111190765\n  (1, 14)\t0.2635440111190765\n  (1, 12)\t0.2635440111190765\n  (1, 11)\t0.2635440111190765\n  (1, 8)\t0.2635440111190765\n  (1, 7)\t0.2635440111190765\n  (1, 5)\t0.2635440111190765\n  (1, 3)\t0.42525129752567803\n  (1, 2)\t0.2635440111190765\n  (2, 26)\t0.31752680284846835\n  (2, 18)\t0.4741246485558491\n  (2, 10)\t0.4741246485558491\n  (2, 9)\t0.4741246485558491\n  (2, 4)\t0.4741246485558491\n  (3, 24)\t0.40824829046386296\n  (3, 22)\t0.40824829046386296\n  (3, 20)\t0.40824829046386296\n  (3, 19)\t0.40824829046386296\n  (3, 16)\t0.40824829046386296\n  (3, 1)\t0.40824829046386296\n  (4, 25)\t0.3162277660168379\n  (4, 0)\t0.9486832980505138\n"
     ]
    }
   ],
   "source": [
    "print(corpus_transformed)"
   ]
  },
  {
   "source": [
    "# 3 - Lemming and Steming"
   ],
   "cell_type": "markdown",
   "metadata": {}
  },
  {
   "cell_type": "code",
   "execution_count": 17,
   "metadata": {},
   "outputs": [],
   "source": [
    "from nltk.stem import WordNetLemmatizer\n",
    "from nltk.stem.snowball import SnowballStemmer"
   ]
  },
  {
   "cell_type": "code",
   "execution_count": 22,
   "metadata": {},
   "outputs": [
    {
     "output_type": "stream",
     "name": "stderr",
     "text": [
      "[nltk_data] Downloading package wordnet to /home/py/nltk_data...\n",
      "[nltk_data]   Unzipping corpora/wordnet.zip.\n"
     ]
    },
    {
     "output_type": "execute_result",
     "data": {
      "text/plain": [
       "True"
      ]
     },
     "metadata": {},
     "execution_count": 22
    }
   ],
   "source": [
    "nltk.download('wordnet')"
   ]
  },
  {
   "cell_type": "code",
   "execution_count": 19,
   "metadata": {},
   "outputs": [],
   "source": [
    "lemmatizer = WordNetLemmatizer()\n",
    "stemmer = SnowballStemmer(\"english\")"
   ]
  },
  {
   "cell_type": "code",
   "execution_count": 20,
   "metadata": {},
   "outputs": [],
   "source": [
    "words = [\"fishing\", \"fishes\", \"fished\"]"
   ]
  },
  {
   "cell_type": "code",
   "execution_count": 23,
   "metadata": {},
   "outputs": [
    {
     "output_type": "stream",
     "name": "stdout",
     "text": [
      "word = fishing\n",
      "stemmed_word = fish\n",
      "lemma = fishing\n",
      "word = fishes\n",
      "stemmed_word = fish\n",
      "lemma = fish\n",
      "word = fished\n",
      "stemmed_word = fish\n",
      "lemma = fished\n"
     ]
    }
   ],
   "source": [
    "for word in words:\n",
    "    print(f\"word = {word}\")\n",
    "    print(f\"stemmed_word = {stemmer.stem(word)}\")\n",
    "    print(f\"lemma = {lemmatizer.lemmatize(word)}\")"
   ]
  },
  {
   "cell_type": "code",
   "execution_count": 24,
   "metadata": {},
   "outputs": [],
   "source": [
    "# 4 - Topic Extraction"
   ]
  },
  {
   "cell_type": "code",
   "execution_count": 25,
   "metadata": {},
   "outputs": [],
   "source": [
    "import pandas as pd\n",
    "from nltk.tokenize import word_tokenize\n",
    "from sklearn import decomposition\n",
    "from sklearn.feature_extraction.text import TfidfVectorizer"
   ]
  },
  {
   "cell_type": "code",
   "execution_count": 38,
   "metadata": {},
   "outputs": [],
   "source": [
    "import re\n",
    "import string\n",
    "def clean_text(s):\n",
    "    s = s.split()\n",
    "    s = \" \".join(s)\n",
    "    s = re.sub(f'[{re.escape(string.punctuation)}]', '', s)\n",
    "    return s"
   ]
  },
  {
   "cell_type": "code",
   "execution_count": 42,
   "metadata": {},
   "outputs": [],
   "source": [
    "corpus = pd.read_csv(\"./projects/imdb/inputs/imdb.csv\", nrows=10000)\n",
    "corpus.loc[:, 'review'] = corpus.review.apply(clean_text)\n",
    "corpus = corpus.review.values"
   ]
  },
  {
   "cell_type": "code",
   "execution_count": 43,
   "metadata": {},
   "outputs": [],
   "source": [
    "tfv = TfidfVectorizer(tokenizer=word_tokenize, token_pattern=None)\n",
    "tfv.fit(corpus)\n",
    "corpus_transformed = tfv.transform(corpus)"
   ]
  },
  {
   "cell_type": "code",
   "execution_count": 44,
   "metadata": {},
   "outputs": [],
   "source": [
    "svd = decomposition.TruncatedSVD(n_components=10)\n",
    "corpus_svd = svd.fit(corpus_transformed)"
   ]
  },
  {
   "cell_type": "code",
   "execution_count": 45,
   "metadata": {},
   "outputs": [],
   "source": [
    "N = 5"
   ]
  },
  {
   "cell_type": "code",
   "execution_count": 46,
   "metadata": {},
   "outputs": [
    {
     "output_type": "stream",
     "name": "stdout",
     "text": [
      "['the', 'a', 'and', 'of', 'to']\n",
      "['i', 'movie', 'it', 'was', 'this']\n",
      "['the', 'was', 'i', 'were', 'of']\n",
      "['her', 'was', 'she', 'i', 'he']\n",
      "['br', 'movie', 'her', 'she', 'the']\n"
     ]
    }
   ],
   "source": [
    "for sample_index in range(5):\n",
    "    feature_scores = dict(\n",
    "        zip(\n",
    "            tfv.get_feature_names(),\n",
    "            corpus_svd.components_[sample_index]\n",
    "        )\n",
    "    )\n",
    "    print(\n",
    "        sorted(\n",
    "            feature_scores,\n",
    "            key=feature_scores.get,\n",
    "            reverse=True\n",
    "        )[:N]\n",
    "    )\n"
   ]
  },
  {
   "cell_type": "code",
   "execution_count": null,
   "metadata": {},
   "outputs": [],
   "source": []
  }
 ]
}