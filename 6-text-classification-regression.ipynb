{
 "metadata": {
  "language_info": {
   "codemirror_mode": {
    "name": "ipython",
    "version": 3
   },
   "file_extension": ".py",
   "mimetype": "text/x-python",
   "name": "python",
   "nbconvert_exporter": "python",
   "pygments_lexer": "ipython3",
   "version": "3.8.5-final"
  },
  "orig_nbformat": 2,
  "kernelspec": {
   "name": "python3",
   "display_name": "Python 3",
   "language": "python"
  }
 },
 "nbformat": 4,
 "nbformat_minor": 2,
 "cells": [
  {
   "cell_type": "code",
   "execution_count": 1,
   "metadata": {},
   "outputs": [],
   "source": [
    "from sklearn.feature_extraction.text import CountVectorizer\n",
    "from nltk.tokenize import word_tokenize"
   ]
  },
  {
   "cell_type": "code",
   "execution_count": 5,
   "metadata": {},
   "outputs": [
    {
     "output_type": "stream",
     "name": "stderr",
     "text": [
      "[nltk_data] Downloading package punkt to /home/py/nltk_data...\n",
      "[nltk_data]   Unzipping tokenizers/punkt.zip.\n"
     ]
    },
    {
     "output_type": "execute_result",
     "data": {
      "text/plain": [
       "True"
      ]
     },
     "metadata": {},
     "execution_count": 5
    }
   ],
   "source": [
    "import nltk\n",
    "nltk.download('punkt')"
   ]
  },
  {
   "cell_type": "code",
   "execution_count": 2,
   "metadata": {},
   "outputs": [],
   "source": [
    "corpus = [\n",
    "    \"Hello how are you?\",\n",
    "    \"im getting bored at home. And you? What do you think?\",\n",
    "    \"did you know about counts\",\n",
    "    \"let's see if this works\",\n",
    "    \"YES!!!\"\n",
    "]"
   ]
  },
  {
   "cell_type": "code",
   "execution_count": 3,
   "metadata": {},
   "outputs": [
    {
     "output_type": "execute_result",
     "data": {
      "text/plain": [
       "{'hello': 9,\n",
       " 'how': 11,\n",
       " 'are': 2,\n",
       " 'you': 22,\n",
       " 'im': 13,\n",
       " 'getting': 8,\n",
       " 'bored': 4,\n",
       " 'at': 3,\n",
       " 'home': 10,\n",
       " 'and': 1,\n",
       " 'what': 19,\n",
       " 'do': 7,\n",
       " 'think': 17,\n",
       " 'did': 6,\n",
       " 'know': 14,\n",
       " 'about': 0,\n",
       " 'counts': 5,\n",
       " 'let': 15,\n",
       " 'see': 16,\n",
       " 'if': 12,\n",
       " 'this': 18,\n",
       " 'works': 20,\n",
       " 'yes': 21}"
      ]
     },
     "metadata": {},
     "execution_count": 3
    }
   ],
   "source": [
    "ctv = CountVectorizer()\n",
    "ctv.fit(corpus)\n",
    "\n",
    "corpus_transformed = ctv.transform(corpus)\n",
    "ctv.vocabulary_"
   ]
  },
  {
   "cell_type": "code",
   "execution_count": 6,
   "metadata": {},
   "outputs": [
    {
     "output_type": "execute_result",
     "data": {
      "text/plain": [
       "{'hello': 13,\n",
       " 'how': 15,\n",
       " 'are': 6,\n",
       " 'you': 26,\n",
       " '?': 3,\n",
       " 'im': 17,\n",
       " 'getting': 12,\n",
       " 'bored': 8,\n",
       " 'at': 7,\n",
       " 'home': 14,\n",
       " '.': 2,\n",
       " 'and': 5,\n",
       " 'what': 23,\n",
       " 'do': 11,\n",
       " 'think': 21,\n",
       " 'did': 10,\n",
       " 'know': 18,\n",
       " 'about': 4,\n",
       " 'counts': 9,\n",
       " 'let': 19,\n",
       " \"'s\": 1,\n",
       " 'see': 20,\n",
       " 'if': 16,\n",
       " 'this': 22,\n",
       " 'works': 24,\n",
       " 'yes': 25,\n",
       " '!': 0}"
      ]
     },
     "metadata": {},
     "execution_count": 6
    }
   ],
   "source": [
    "ctv = CountVectorizer(tokenizer=word_tokenize, token_pattern=None)\n",
    "ctv.fit(corpus)\n",
    "\n",
    "corpus_transformed = ctv.transform(corpus)\n",
    "ctv.vocabulary_"
   ]
  },
  {
   "cell_type": "code",
   "execution_count": 7,
   "metadata": {},
   "outputs": [
    {
     "output_type": "execute_result",
     "data": {
      "text/plain": [
       "<5x27 sparse matrix of type '<class 'numpy.int64'>'\n",
       "\twith 30 stored elements in Compressed Sparse Row format>"
      ]
     },
     "metadata": {},
     "execution_count": 7
    }
   ],
   "source": [
    "corpus_transformed"
   ]
  },
  {
   "cell_type": "code",
   "execution_count": null,
   "metadata": {},
   "outputs": [],
   "source": []
  }
 ]
}