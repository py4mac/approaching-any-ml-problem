{
 "metadata": {
  "language_info": {
   "codemirror_mode": {
    "name": "ipython",
    "version": 3
   },
   "file_extension": ".py",
   "mimetype": "text/x-python",
   "name": "python",
   "nbconvert_exporter": "python",
   "pygments_lexer": "ipython3",
   "version": "3.8.5-final"
  },
  "orig_nbformat": 2,
  "kernelspec": {
   "name": "python3",
   "display_name": "Python 3",
   "language": "python"
  }
 },
 "nbformat": 4,
 "nbformat_minor": 2,
 "cells": [
  {
   "cell_type": "code",
   "execution_count": 1,
   "metadata": {},
   "outputs": [],
   "source": [
    "import pandas as pd\n",
    "import numpy as np\n",
    "from sklearn.datasets import fetch_california_housing"
   ]
  },
  {
   "cell_type": "code",
   "execution_count": 2,
   "metadata": {},
   "outputs": [],
   "source": [
    "data = fetch_california_housing()\n",
    "X = data[\"data\"]\n",
    "col_names = data[\"feature_names\"]\n",
    "y = data[\"target\"]"
   ]
  },
  {
   "cell_type": "code",
   "execution_count": 3,
   "metadata": {},
   "outputs": [
    {
     "output_type": "execute_result",
     "data": {
      "text/plain": [
       "              MedInc  HouseAge  AveRooms  AveBedrms  Population  AveOccup  \\\n",
       "MedInc      1.000000 -0.119034  0.326895  -0.062040    0.004834  0.018766   \n",
       "HouseAge   -0.119034  1.000000 -0.153277  -0.077747   -0.296244  0.013191   \n",
       "AveRooms    0.326895 -0.153277  1.000000   0.847621   -0.072213 -0.004852   \n",
       "AveBedrms  -0.062040 -0.077747  0.847621   1.000000   -0.066197 -0.006181   \n",
       "Population  0.004834 -0.296244 -0.072213  -0.066197    1.000000  0.069863   \n",
       "AveOccup    0.018766  0.013191 -0.004852  -0.006181    0.069863  1.000000   \n",
       "Latitude   -0.079809  0.011173  0.106389   0.069721   -0.108785  0.002366   \n",
       "Longitude  -0.015176 -0.108197 -0.027540   0.013344    0.099773  0.002476   \n",
       "MedInSqrt   0.984329 -0.132797  0.326688  -0.066910    0.018415  0.015266   \n",
       "\n",
       "            Latitude  Longitude  MedInSqrt  \n",
       "MedInc     -0.079809  -0.015176   0.984329  \n",
       "HouseAge    0.011173  -0.108197  -0.132797  \n",
       "AveRooms    0.106389  -0.027540   0.326688  \n",
       "AveBedrms   0.069721   0.013344  -0.066910  \n",
       "Population -0.108785   0.099773   0.018415  \n",
       "AveOccup    0.002366   0.002476   0.015266  \n",
       "Latitude    1.000000  -0.924664  -0.084303  \n",
       "Longitude  -0.924664   1.000000  -0.015569  \n",
       "MedInSqrt  -0.084303  -0.015569   1.000000  "
      ],
      "text/html": "<div>\n<style scoped>\n    .dataframe tbody tr th:only-of-type {\n        vertical-align: middle;\n    }\n\n    .dataframe tbody tr th {\n        vertical-align: top;\n    }\n\n    .dataframe thead th {\n        text-align: right;\n    }\n</style>\n<table border=\"1\" class=\"dataframe\">\n  <thead>\n    <tr style=\"text-align: right;\">\n      <th></th>\n      <th>MedInc</th>\n      <th>HouseAge</th>\n      <th>AveRooms</th>\n      <th>AveBedrms</th>\n      <th>Population</th>\n      <th>AveOccup</th>\n      <th>Latitude</th>\n      <th>Longitude</th>\n      <th>MedInSqrt</th>\n    </tr>\n  </thead>\n  <tbody>\n    <tr>\n      <th>MedInc</th>\n      <td>1.000000</td>\n      <td>-0.119034</td>\n      <td>0.326895</td>\n      <td>-0.062040</td>\n      <td>0.004834</td>\n      <td>0.018766</td>\n      <td>-0.079809</td>\n      <td>-0.015176</td>\n      <td>0.984329</td>\n    </tr>\n    <tr>\n      <th>HouseAge</th>\n      <td>-0.119034</td>\n      <td>1.000000</td>\n      <td>-0.153277</td>\n      <td>-0.077747</td>\n      <td>-0.296244</td>\n      <td>0.013191</td>\n      <td>0.011173</td>\n      <td>-0.108197</td>\n      <td>-0.132797</td>\n    </tr>\n    <tr>\n      <th>AveRooms</th>\n      <td>0.326895</td>\n      <td>-0.153277</td>\n      <td>1.000000</td>\n      <td>0.847621</td>\n      <td>-0.072213</td>\n      <td>-0.004852</td>\n      <td>0.106389</td>\n      <td>-0.027540</td>\n      <td>0.326688</td>\n    </tr>\n    <tr>\n      <th>AveBedrms</th>\n      <td>-0.062040</td>\n      <td>-0.077747</td>\n      <td>0.847621</td>\n      <td>1.000000</td>\n      <td>-0.066197</td>\n      <td>-0.006181</td>\n      <td>0.069721</td>\n      <td>0.013344</td>\n      <td>-0.066910</td>\n    </tr>\n    <tr>\n      <th>Population</th>\n      <td>0.004834</td>\n      <td>-0.296244</td>\n      <td>-0.072213</td>\n      <td>-0.066197</td>\n      <td>1.000000</td>\n      <td>0.069863</td>\n      <td>-0.108785</td>\n      <td>0.099773</td>\n      <td>0.018415</td>\n    </tr>\n    <tr>\n      <th>AveOccup</th>\n      <td>0.018766</td>\n      <td>0.013191</td>\n      <td>-0.004852</td>\n      <td>-0.006181</td>\n      <td>0.069863</td>\n      <td>1.000000</td>\n      <td>0.002366</td>\n      <td>0.002476</td>\n      <td>0.015266</td>\n    </tr>\n    <tr>\n      <th>Latitude</th>\n      <td>-0.079809</td>\n      <td>0.011173</td>\n      <td>0.106389</td>\n      <td>0.069721</td>\n      <td>-0.108785</td>\n      <td>0.002366</td>\n      <td>1.000000</td>\n      <td>-0.924664</td>\n      <td>-0.084303</td>\n    </tr>\n    <tr>\n      <th>Longitude</th>\n      <td>-0.015176</td>\n      <td>-0.108197</td>\n      <td>-0.027540</td>\n      <td>0.013344</td>\n      <td>0.099773</td>\n      <td>0.002476</td>\n      <td>-0.924664</td>\n      <td>1.000000</td>\n      <td>-0.015569</td>\n    </tr>\n    <tr>\n      <th>MedInSqrt</th>\n      <td>0.984329</td>\n      <td>-0.132797</td>\n      <td>0.326688</td>\n      <td>-0.066910</td>\n      <td>0.018415</td>\n      <td>0.015266</td>\n      <td>-0.084303</td>\n      <td>-0.015569</td>\n      <td>1.000000</td>\n    </tr>\n  </tbody>\n</table>\n</div>"
     },
     "metadata": {},
     "execution_count": 3
    }
   ],
   "source": [
    "df = pd.DataFrame(X, columns=col_names)\n",
    "df.loc[:, \"MedInSqrt\"] = df.MedInc.apply(np.sqrt)\n",
    "df.corr()"
   ]
  },
  {
   "cell_type": "code",
   "execution_count": 4,
   "metadata": {},
   "outputs": [],
   "source": [
    "from py4mac.ml.preprocessing.feature_selection import UnivariateFeatureSelection"
   ]
  },
  {
   "source": [
    "# 1 - Univariate feature selection"
   ],
   "cell_type": "markdown",
   "metadata": {}
  },
  {
   "cell_type": "code",
   "execution_count": 5,
   "metadata": {},
   "outputs": [
    {
     "output_type": "execute_result",
     "data": {
      "text/plain": [
       "array([[8.3252],\n",
       "       [8.3014],\n",
       "       [7.2574],\n",
       "       ...,\n",
       "       [1.7   ],\n",
       "       [1.8672],\n",
       "       [2.3886]])"
      ]
     },
     "metadata": {},
     "execution_count": 5
    }
   ],
   "source": [
    "ufs = UnivariateFeatureSelection(n_features=0.1, problem_type=\"regression\", scoring=\"f_regression\")\n",
    "ufs.fit(X, y)\n",
    "X_transformed = ufs.transform(X)\n",
    "X_transformed"
   ]
  },
  {
   "cell_type": "code",
   "execution_count": 6,
   "metadata": {},
   "outputs": [
    {
     "output_type": "execute_result",
     "data": {
      "text/plain": [
       "(20640, 1)"
      ]
     },
     "metadata": {},
     "execution_count": 6
    }
   ],
   "source": [
    "X_transformed.shape"
   ]
  },
  {
   "cell_type": "code",
   "execution_count": 7,
   "metadata": {},
   "outputs": [
    {
     "output_type": "execute_result",
     "data": {
      "text/plain": [
       "(20640, 8)"
      ]
     },
     "metadata": {},
     "execution_count": 7
    }
   ],
   "source": [
    "X.shape"
   ]
  },
  {
   "cell_type": "code",
   "execution_count": null,
   "metadata": {},
   "outputs": [],
   "source": []
  }
 ]
}